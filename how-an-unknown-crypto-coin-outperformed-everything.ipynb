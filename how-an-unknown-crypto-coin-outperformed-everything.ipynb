{
 "cells": [
  {
   "cell_type": "code",
   "execution_count": 1,
   "metadata": {
    "_cell_guid": "b1076dfc-b9ad-4769-8c92-a6c4dae69d19",
    "_uuid": "8f2839f25d086af736a60e9eeb907d3b93b6e0e5",
    "execution": {
     "iopub.execute_input": "2021-03-19T02:04:31.985419Z",
     "iopub.status.busy": "2021-03-19T02:04:31.984698Z",
     "iopub.status.idle": "2021-03-19T02:04:31.999750Z",
     "shell.execute_reply": "2021-03-19T02:04:32.000263Z"
    },
    "papermill": {
     "duration": 0.030347,
     "end_time": "2021-03-19T02:04:32.000586",
     "exception": false,
     "start_time": "2021-03-19T02:04:31.970239",
     "status": "completed"
    },
    "tags": []
   },
   "outputs": [
    {
     "name": "stdout",
     "output_type": "stream",
     "text": [
      "/kaggle/input/ard-coin-price/ard.csv\n"
     ]
    }
   ],
   "source": [
    "\n",
    "import numpy as np\n",
    "import os\n",
    "for dirname, _, filenames in os.walk('/kaggle/input'):\n",
    "    for filename in filenames:\n",
    "        print(os.path.join(dirname, filename))"
   ]
  },
  {
   "cell_type": "markdown",
   "metadata": {
    "papermill": {
     "duration": 0.006838,
     "end_time": "2021-03-19T02:04:32.015450",
     "exception": false,
     "start_time": "2021-03-19T02:04:32.008612",
     "status": "completed"
    },
    "tags": []
   },
   "source": [
    "![ ]( https://cdn.greensoft.mn/uploads/users/548/images/APPRENTICE%20LOGO%20ENG%20NEW_00061.png )"
   ]
  },
  {
   "cell_type": "markdown",
   "metadata": {
    "papermill": {
     "duration": 0.006759,
     "end_time": "2021-03-19T02:04:32.029391",
     "exception": false,
     "start_time": "2021-03-19T02:04:32.022632",
     "status": "completed"
    },
    "tags": []
   },
   "source": [
    "* While everybody was busy getting intrigued by and trying to wrap their head around the \"GameStop/Wallstreetbets\" craze and bitcoin's historic run, a potentially more impressive event happened under the radar in Mongolia. \n",
    "\n",
    "* The price of Ard coin, a blockchain-based coin created by Ard Financial Group, has increased over a hundred times within just three months. The company describes it as a blockchain-based loyalty program and holds a significant portion of it. Ard Financial Group is a prominent player in the Mongolian financial market with a few publicly traded companies in its portfolio.\n",
    "\n",
    "* In those three months, several clever and well-timed marketing moves contributed to this massive move. More specifically, the company co-produced a Mongolian version of 'The Apprentice\" show and it started to air country-wide in December 2020. In this program, the company's chairman filled the role of the main judge or Donald Trump's Mongolian counterpart. Interestingly, the coin's price peaked around the same time when the program reached its final episodes.\n",
    "\n",
    "* In this article, I've tried to illustrate those points with data collected from Google Trends with pytrends, Alexa, and Coinmarketcap, and hopefully unravel the main drivers of those moves and other relevant factors."
   ]
  },
  {
   "cell_type": "code",
   "execution_count": 2,
   "metadata": {
    "_kg_hide-input": true,
    "_kg_hide-output": true,
    "execution": {
     "iopub.execute_input": "2021-03-19T02:04:32.055079Z",
     "iopub.status.busy": "2021-03-19T02:04:32.054406Z",
     "iopub.status.idle": "2021-03-19T02:04:44.344869Z",
     "shell.execute_reply": "2021-03-19T02:04:44.343377Z"
    },
    "papermill": {
     "duration": 12.307815,
     "end_time": "2021-03-19T02:04:44.345053",
     "exception": false,
     "start_time": "2021-03-19T02:04:32.037238",
     "status": "completed"
    },
    "tags": []
   },
   "outputs": [
    {
     "name": "stdout",
     "output_type": "stream",
     "text": [
      "Collecting pytrends\r\n",
      "  Downloading pytrends-4.7.3-py3-none-any.whl (14 kB)\r\n",
      "Requirement already satisfied: pandas>=0.25 in /opt/conda/lib/python3.7/site-packages (from pytrends) (1.2.0)\r\n",
      "Requirement already satisfied: requests in /opt/conda/lib/python3.7/site-packages (from pytrends) (2.25.1)\r\n",
      "Requirement already satisfied: lxml in /opt/conda/lib/python3.7/site-packages (from pytrends) (4.6.2)\r\n",
      "Requirement already satisfied: python-dateutil>=2.7.3 in /opt/conda/lib/python3.7/site-packages (from pandas>=0.25->pytrends) (2.8.1)\r\n",
      "Requirement already satisfied: pytz>=2017.3 in /opt/conda/lib/python3.7/site-packages (from pandas>=0.25->pytrends) (2020.5)\r\n",
      "Requirement already satisfied: numpy>=1.16.5 in /opt/conda/lib/python3.7/site-packages (from pandas>=0.25->pytrends) (1.19.5)\r\n",
      "Requirement already satisfied: six>=1.5 in /opt/conda/lib/python3.7/site-packages (from python-dateutil>=2.7.3->pandas>=0.25->pytrends) (1.15.0)\r\n",
      "Requirement already satisfied: urllib3<1.27,>=1.21.1 in /opt/conda/lib/python3.7/site-packages (from requests->pytrends) (1.26.2)\r\n",
      "Requirement already satisfied: idna<3,>=2.5 in /opt/conda/lib/python3.7/site-packages (from requests->pytrends) (2.10)\r\n",
      "Requirement already satisfied: certifi>=2017.4.17 in /opt/conda/lib/python3.7/site-packages (from requests->pytrends) (2020.12.5)\r\n",
      "Requirement already satisfied: chardet<5,>=3.0.2 in /opt/conda/lib/python3.7/site-packages (from requests->pytrends) (3.0.4)\r\n",
      "Installing collected packages: pytrends\r\n",
      "Successfully installed pytrends-4.7.3\r\n"
     ]
    }
   ],
   "source": [
    "import pandas as pd\n",
    "import seaborn as sns\n",
    "!pip install pytrends\n",
    "import pytrends\n",
    "from pytrends.request import TrendReq\n",
    "import matplotlib.pyplot as plt\n",
    "\n",
    "pytrend = TrendReq()\n",
    "pytrends = TrendReq(geo='MN')\n",
    "ard_list = ['ard coin']\n",
    "app_list = ['apprentice']\n",
    "\n",
    "pytrend.build_payload(ard_list, timeframe='2019-12-19 2021-03-15')\n",
    "pytrends.build_payload(app_list, timeframe='2019-12-19 2021-03-15')\n",
    "ard_data = pytrend.interest_over_time()\n",
    "app_data = pytrends.interest_over_time()\n",
    "\n",
    "ard_coin_price = pd.read_csv('../input/ard-coin-price/ard.csv', index_col='Date')\n",
    "ard_price = pd.DataFrame(ard_coin_price, columns=['Close**'])\n",
    "ard_price.index = pd.to_datetime(ard_price.index)"
   ]
  },
  {
   "cell_type": "markdown",
   "metadata": {
    "papermill": {
     "duration": 0.009182,
     "end_time": "2021-03-19T02:04:44.363810",
     "exception": false,
     "start_time": "2021-03-19T02:04:44.354628",
     "status": "completed"
    },
    "tags": []
   },
   "source": [
    "* First, I have collected data from Google Trends using pytrends for the search term 'ard coin' and 'apprentice'. More specifically, I have restricted the query for the search term 'apprentice' by the country of Mongolia and didn't filter the term \"ard coin\"."
   ]
  },
  {
   "cell_type": "code",
   "execution_count": 3,
   "metadata": {
    "execution": {
     "iopub.execute_input": "2021-03-19T02:04:44.407314Z",
     "iopub.status.busy": "2021-03-19T02:04:44.405500Z",
     "iopub.status.idle": "2021-03-19T02:04:44.853124Z",
     "shell.execute_reply": "2021-03-19T02:04:44.852333Z"
    },
    "papermill": {
     "duration": 0.480338,
     "end_time": "2021-03-19T02:04:44.853314",
     "exception": false,
     "start_time": "2021-03-19T02:04:44.372976",
     "status": "completed"
    },
    "tags": []
   },
   "outputs": [
    {
     "data": {
      "text/plain": [
       "<AxesSubplot:title={'center':'Google Search for \"Ard Coin\" and \"Apprentice\"'}, xlabel='date'>"
      ]
     },
     "execution_count": 3,
     "metadata": {},
     "output_type": "execute_result"
    },
    {
     "data": {
      "image/png": "[encoded data removed]",
      "text/plain": [
       "<Figure size 842.4x595.44 with 1 Axes>"
      ]
     },
     "metadata": {
      "needs_background": "light"
     },
     "output_type": "display_data"
    }
   ],
   "source": [
    "fig, ax = plt.subplots(figsize= (11.7, 8.27))\n",
    "plt.title('Google Search for \"Ard Coin\" and \"Apprentice\"', fontsize = 16)\n",
    "sns.set_style(\"darkgrid\", {\"axes.facecolor\": \".9\"})\n",
    "price = pd.DataFrame(ard_data, columns=['ard coin'])\n",
    "interest = pd.DataFrame(app_data, columns=['apprentice'])\n",
    "sns.lineplot(data = price, palette=['red'], linewidth = 1)\n",
    "sns.scatterplot(data = interest, palette=['blue'])"
   ]
  },
  {
   "cell_type": "markdown",
   "metadata": {
    "papermill": {
     "duration": 0.010338,
     "end_time": "2021-03-19T02:04:44.874541",
     "exception": false,
     "start_time": "2021-03-19T02:04:44.864203",
     "status": "completed"
    },
    "tags": []
   },
   "source": [
    "* As you can see from the graph above, searches for the term 'Apprentice' (blue dots) started to increase as the first episode aired on December 13, 2020. If you notice the intial upticks around early 2020, that's when the promotion of the program started. What's more interesting is that on December 23, 2020, a strict lockdown was implemented in Ulaanbaatar. \n",
    "\n",
    "* It seems like people who were stuck in their homes watched the program religiously, then the positive sentiment translated as an interest toward the company. I should also add that price of stocks with the name 'Ard' in it increased substantially, which shows that the program, without a doubt, contributed to audiences' high perceived value of the company.\n",
    "\n",
    "* Now let's see how it will map out if put together ArdCoin's search frequency and its price, then highlight the dates of the subsequent events, such as the lockdown, \"The Apprentice\" on a graph."
   ]
  },
  {
   "cell_type": "code",
   "execution_count": 4,
   "metadata": {
    "execution": {
     "iopub.execute_input": "2021-03-19T02:04:44.901736Z",
     "iopub.status.busy": "2021-03-19T02:04:44.900899Z",
     "iopub.status.idle": "2021-03-19T02:04:44.905985Z",
     "shell.execute_reply": "2021-03-19T02:04:44.905405Z"
    },
    "papermill": {
     "duration": 0.021049,
     "end_time": "2021-03-19T02:04:44.906124",
     "exception": false,
     "start_time": "2021-03-19T02:04:44.885075",
     "status": "completed"
    },
    "tags": []
   },
   "outputs": [
    {
     "data": {
      "text/html": [
       "\n",
       "        <iframe\n",
       "            width=\"800\"\n",
       "            height=\"670\"\n",
       "            src=\"https://public.tableau.com/views/ApprenticeandArdCoin/Sheet1?:language=en&:display_count=y&publish=yes&:origin=viz_share_link\"\n",
       "            frameborder=\"0\"\n",
       "            allowfullscreen\n",
       "        ></iframe>\n",
       "        "
      ],
      "text/plain": [
       "<IPython.lib.display.IFrame at 0x7ff82199d590>"
      ]
     },
     "execution_count": 4,
     "metadata": {},
     "output_type": "execute_result"
    }
   ],
   "source": [
    "from IPython.display import IFrame\n",
    "IFrame(\"https://public.tableau.com/views/ApprenticeandArdCoin/Sheet1?:language=en&:display_count=y&publish=yes&:origin=viz_share_link\", width=800, height=670)"
   ]
  },
  {
   "cell_type": "markdown",
   "metadata": {
    "papermill": {
     "duration": 0.010842,
     "end_time": "2021-03-19T02:04:44.928318",
     "exception": false,
     "start_time": "2021-03-19T02:04:44.917476",
     "status": "completed"
    },
    "tags": []
   },
   "source": [
    "* Even though we can not say the lockdown and \"The Apprentice\" show direcly caused the price movement, as you can see on the graph above, it certainly fueled it to some degree. \n",
    "\n",
    "* Not long after the lockdown, the public interest fizzled out, but the coin is holding its value around USD 0.08.  \n",
    "\n",
    "* Finally, I have checked if the company changed its messaging about the coin. By using Alexa, I have checked the previous version (from July 6, 2019) of the official site as shown in the snipped below. \n",
    "\n",
    "* Interestingly, on the previous version, it was described as \"a utility token that will serve as a payment medium\", which is not mentioned on the current version of the site. "
   ]
  },
  {
   "cell_type": "markdown",
   "metadata": {
    "papermill": {
     "duration": 0.010788,
     "end_time": "2021-03-19T02:04:44.950356",
     "exception": false,
     "start_time": "2021-03-19T02:04:44.939568",
     "status": "completed"
    },
    "tags": []
   },
   "source": [
    "![]( https://i.imgur.com/nSShGAI.png )"
   ]
  },
  {
   "cell_type": "markdown",
   "metadata": {
    "papermill": {
     "duration": 0.010979,
     "end_time": "2021-03-19T02:04:44.972541",
     "exception": false,
     "start_time": "2021-03-19T02:04:44.961562",
     "status": "completed"
    },
    "tags": []
   },
   "source": [
    "# Conclusion\n",
    "\n",
    "* I hope you find my research interesting and I really tried to be neutral and only bring out the facts and hidden patterns.  It was certainly an interesting event to observe and see its developments. If you liked my work, let me know, and I would like to do more of this kind of research in the future. "
   ]
  }
 ],
 "metadata": {
  "kernelspec": {
   "display_name": "Python 3",
   "language": "python",
   "name": "python3"
  },
  "language_info": {
   "codemirror_mode": {
    "name": "ipython",
    "version": 3
   },
   "file_extension": ".py",
   "mimetype": "text/x-python",
   "name": "python",
   "nbconvert_exporter": "python",
   "pygments_lexer": "ipython3",
   "version": "3.7.9"
  },
  "papermill": {
   "default_parameters": {},
   "duration": 20.453106,
   "end_time": "2021-03-19T02:04:45.695952",
   "environment_variables": {},
   "exception": null,
   "input_path": "__notebook__.ipynb",
   "output_path": "__notebook__.ipynb",
   "parameters": {},
   "start_time": "2021-03-19T02:04:25.242846",
   "version": "2.2.2"
  }
 },
 "nbformat": 4,
 "nbformat_minor": 4
}
